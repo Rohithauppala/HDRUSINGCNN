{
 "cells": [
  {
   "cell_type": "code",
   "execution_count": 1,
   "id": "10eeea6b-6eac-46f5-a3fc-b3e657c79a0f",
   "metadata": {},
   "outputs": [],
   "source": [
    "def screen_capture():\n",
    "  import pyscreenshot as ImageGrab\n",
    "  import time\n",
    "    \n",
    "  images_folder = \"captured_images/9/\"\n",
    "    \n",
    "  for i in range(20):\n",
    "    time.sleep(5)\n",
    "    im=ImageGrab.grab(bbox=(60,170,400,550))\n",
    "    print(\"saved...\",i)\n",
    "    im.save(images_folder+str(i)+'.png')\n",
    "    print(\"clear screen and redraw again....\")\n",
    "screen_capture()\n"
   ]
  },
  {
   "cell_type": "code",
   "execution_count": 5,
   "id": "f26d9b6b-89bc-4af6-9e2f-e6165352cfda",
   "metadata": {},
   "outputs": [],
   "source": [
    "import numpy as np\n",
    "def create_label(image_name):\n",
    "    if image_name == '0':\n",
    "        return np.array([1,0,0,0,0,0,0,0,0,0])\n",
    "    elif image_name == '1':\n",
    "        return np.array([0,1,0,0,0,0,0,0,0,0])\n",
    "    elif image_name == '2':\n",
    "        return np.array([0,0,1,0,0,0,0,0,0,0])\n",
    "    elif image_name == '3':\n",
    "        return np.array([0,0,0,1,0,0,0,0,0,0])\n",
    "    elif image_name == '4':\n",
    "        return np.array([0,0,0,0,1,0,0,0,0,0])\n",
    "    elif image_name == '5':\n",
    "        return np.array([0,0,0,0,0,1,0,0,0,0])\n",
    "    elif image_name == '6':\n",
    "        return np.array([0,0,0,0,0,0,1,0,0,0])\n",
    "    elif image_name == '7':\n",
    "        return np.array([0,0,0,0,0,0,0,1,0,0])\n",
    "    elif image_name == '8':\n",
    "        return np.array([0,0,0,0,0,0,0,0,1,0])\n",
    "    elif image_name == '9':\n",
    "        return np.array([0,0,0,0,0,0,0,0,0,1])"
   ]
  },
  {
   "cell_type": "code",
   "execution_count": 6,
   "id": "0c77be83",
   "metadata": {},
   "outputs": [],
   "source": [
    "import os\n",
    "import cv2\n",
    "from random import shuffle\n",
    "from tqdm import tqdm\n",
    "def create_data():\n",
    "    data=[]\n",
    "    for folder in tqdm(os.listdir(\"captured_images\")):\n",
    "        for img in os.listdir(\"captured_images/\"+folder):\n",
    "            path=os.path.join(\"captured_images\",folder,img)\n",
    "            img_data = cv2.imread(path,cv2.IMREAD_GRAYSCALE)\n",
    "            try:\n",
    "                img_data = cv2.resize(img_data,(28,28))\n",
    "            except cv2.error as e:\n",
    "                continue\n",
    "            data.append([np.array(img_data),create_label(folder)])\n",
    "    shuffle(data)\n",
    "    return data"
   ]
  },
  {
   "cell_type": "code",
   "execution_count": 7,
   "id": "2d4368ed",
   "metadata": {},
   "outputs": [
    {
     "name": "stderr",
     "output_type": "stream",
     "text": [
      "100%|██████████████████████████████████████████████████████████████████████████████████| 10/10 [00:05<00:00,  1.80it/s]\n"
     ]
    }
   ],
   "source": [
    "data=create_data()"
   ]
  },
  {
   "cell_type": "code",
   "execution_count": 8,
   "id": "5a86db44",
   "metadata": {},
   "outputs": [],
   "source": [
    "#training and testing part\n",
    "train=data[:800]\n",
    "test=data[800:]\n",
    "x_train=np.array([i[0] for i in train]).reshape(-1,28,28,1)\n",
    "y_train=[i[1] for i in train]\n",
    "x_test=np.array([i[0] for i in test]).reshape(-1,28,28,1)\n",
    "y_test=[i[1] for i in test]"
   ]
  },
  {
   "cell_type": "code",
   "execution_count": 9,
   "id": "90916e07",
   "metadata": {
    "scrolled": false
   },
   "outputs": [
    {
     "name": "stdout",
     "output_type": "stream",
     "text": [
      "WARNING:tensorflow:From c:\\users\\nobid\\appdata\\local\\programs\\python\\python36\\lib\\site-packages\\tensorflow\\python\\compat\\v2_compat.py:96: disable_resource_variables (from tensorflow.python.ops.variable_scope) is deprecated and will be removed in a future version.\n",
      "Instructions for updating:\n",
      "non-resource variables are not supported in the long term\n",
      "curses is not supported on this machine (please install/reinstall curses for an optimal experience)\n"
     ]
    }
   ],
   "source": [
    "import warnings\n",
    "warnings.filterwarnings('ignore')\n",
    "import tensorflow.compat.v1 as tf\n",
    "import tflearn\n",
    "from tflearn.layers.conv import conv_2d, max_pool_2d\n",
    "from tflearn.layers.core import input_data, dropout, fully_connected\n",
    "from tflearn.layers.estimator import regression"
   ]
  },
  {
   "cell_type": "code",
   "execution_count": null,
   "id": "c3f0b304",
   "metadata": {
    "scrolled": true
   },
   "outputs": [
    {
     "name": "stdout",
     "output_type": "stream",
     "text": [
      "Training Step: 129  | total loss: \u001b[1m\u001b[32m0.23783\u001b[0m\u001b[0m | time: 1.065s\n",
      "| Adam | epoch: 010 | loss: 0.23783 - acc: 0.9280 -- iter: 768/800\n",
      "Training Step: 130  | total loss: \u001b[1m\u001b[32m0.26059\u001b[0m\u001b[0m | time: 2.176s\n",
      "| Adam | epoch: 010 | loss: 0.26059 - acc: 0.9196 | val_loss: 0.45024 - val_acc: 0.8713 -- iter: 800/800\n",
      "--\n"
     ]
    }
   ],
   "source": [
    "tf.reset_default_graph()\n",
    "convnet = input_data(shape=[28,28, 1], name='input') \n",
    "convnet = conv_2d(convnet, 32, 5, activation='relu')\n",
    "convnet = max_pool_2d(convnet, 5)\n",
    "convnet = conv_2d(convnet, 64, 5, activation='relu')\n",
    "convnet = max_pool_2d(convnet, 5)\n",
    "convnet = conv_2d(convnet, 128, 5, activation='relu')\n",
    "convnet = max_pool_2d(convnet, 5)\n",
    "convnet = conv_2d(convnet, 64, 5, activation='relu')\n",
    "convnet = max_pool_2d(convnet, 5)\n",
    "convnet = conv_2d(convnet, 32, 5, activation='relu')\n",
    "convnet = max_pool_2d(convnet, 5)\n",
    "convnet = fully_connected(convnet, 1024, activation='relu')\n",
    "convnet = dropout(convnet, 0.8) #prevent a model from overfitting\n",
    "convnet = fully_connected(convnet, 10, activation='softmax')\n",
    "convnet = regression(convnet, optimizer='adam', learning_rate=0.001, \n",
    "                     loss='categorical_crossentropy', name='targets') \n",
    "model = tflearn.DNN(convnet, tensorboard_verbose=1) \n",
    "model.fit({'input': x_train}, {'targets': y_train}, n_epoch=12,\n",
    "          validation_set=({'input': x_test}, {'targets': y_test}),\n",
    "          show_metric=True)"
   ]
  },
  {
   "cell_type": "code",
   "execution_count": null,
   "id": "43c33648",
   "metadata": {},
   "outputs": [],
   "source": [
    "def create_test_data():\n",
    "    data=[]\n",
    "    for img in tqdm(os.listdir(\"new_images\")):\n",
    "        path=os.path.join(\"new_images\",img)\n",
    "        img_num=img.split('.')[0]\n",
    "        img_data = cv2.imread(path,cv2.IMREAD_GRAYSCALE)\n",
    "        try:\n",
    "            img_data = cv2.resize(img_data,(28,28))\n",
    "        except cv2.error as e:\n",
    "            continue\n",
    "        data.append([np.array(img_data),img_num])\n",
    "    shuffle(data)\n",
    "    return data\n",
    "    "
   ]
  },
  {
   "cell_type": "code",
   "execution_count": null,
   "id": "a2fd20e8",
   "metadata": {},
   "outputs": [],
   "source": [
    "test_data = create_test_data()"
   ]
  },
  {
   "cell_type": "code",
   "execution_count": null,
   "id": "7007ed95",
   "metadata": {},
   "outputs": [],
   "source": [
    "import matplotlib.pyplot as plt\n",
    "fig = plt.figure(figsize=(10,10))\n",
    "for num, data in enumerate(test_data[:10]):\n",
    "    img_data = data[0]\n",
    "    y = fig.add_subplot(5,5, num + 1)\n",
    "    orig = img_data\n",
    "    data = img_data.reshape(28,28, 1)\n",
    "    model_out = model.predict([data])\n",
    "    str_label = \"Prediction: \" + str(np.argmax(model_out))\n",
    "\n",
    "    y.imshow(orig, cmap='gray')\n",
    "    plt.title(str_label)\n",
    "    y.axes.get_xaxis().set_visible(False)\n",
    "    y.axes.get_yaxis().set_visible(False)\n",
    "plt.show()\n"
   ]
  },
  {
   "cell_type": "code",
   "execution_count": null,
   "id": "8532cc8b",
   "metadata": {},
   "outputs": [],
   "source": []
  },
  {
   "cell_type": "code",
   "execution_count": null,
   "id": "3736620f",
   "metadata": {},
   "outputs": [],
   "source": []
  }
 ],
 "metadata": {
  "kernelspec": {
   "display_name": "Python 3",
   "language": "python",
   "name": "python3"
  },
  "language_info": {
   "codemirror_mode": {
    "name": "ipython",
    "version": 3
   },
   "file_extension": ".py",
   "mimetype": "text/x-python",
   "name": "python",
   "nbconvert_exporter": "python",
   "pygments_lexer": "ipython3",
   "version": "3.6.5"
  }
 },
 "nbformat": 4,
 "nbformat_minor": 5
}
